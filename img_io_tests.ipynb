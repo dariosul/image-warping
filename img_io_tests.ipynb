{
 "cells": [
  {
   "cell_type": "code",
   "execution_count": 5,
   "metadata": {
    "collapsed": false
   },
   "outputs": [],
   "source": [
    "import numpy as np\n",
    "from scipy import misc as mic\n",
    "import matplotlib.pyplot as plt\n",
    "from  scipy import ndimage"
   ]
  },
  {
   "cell_type": "code",
   "execution_count": 6,
   "metadata": {
    "collapsed": false
   },
   "outputs": [],
   "source": [
    "'''\n",
    "f = mic.face(gray = True)\n",
    "plt.imshow(f)\n",
    "plt.show()\n",
    "'''\n",
    "me = mic.imread('square.jpg', flatten = 1)"
   ]
  },
  {
   "cell_type": "code",
   "execution_count": 7,
   "metadata": {
    "collapsed": false
   },
   "outputs": [
    {
     "data": {
      "text/plain": [
       "'mask = (X - W / 2) ** 2 + (Y - H / 2) ** 2 > W * H /4\\nme[mask] = 0\\n'"
      ]
     },
     "execution_count": 7,
     "metadata": {},
     "output_type": "execute_result"
    }
   ],
   "source": [
    "W, H =  me.shape\n",
    "X, Y = np.ogrid[0:W, 0:H]\n",
    "'''mask = (X - W / 2) ** 2 + (Y - H / 2) ** 2 > W * H /4\n",
    "me[mask] = 0\n",
    "'''"
   ]
  },
  {
   "cell_type": "code",
   "execution_count": 8,
   "metadata": {
    "collapsed": true
   },
   "outputs": [],
   "source": [
    "me_crop = me#[ 900:1100, 450:650]\n",
    "me_crop_blur = ndimage.gaussian_filter(me_crop, 2)\n",
    "me_crop_blur_filter = ndimage.gaussian_filter(me_crop_blur, 1)\n",
    "alpha = 50\n",
    "sharp_blur = me_crop_blur + alpha*(me_crop_blur - me_crop_blur_filter)\n",
    "me_crop_blur_denosed = ndimage.median_filter(me_crop, 3)"
   ]
  },
  {
   "cell_type": "code",
   "execution_count": 9,
   "metadata": {
    "collapsed": false
   },
   "outputs": [
    {
     "data": {
      "text/plain": [
       "\"\\nme = mic.imread('me.jpeg')\\nme_crop = me[900:1100, 450:650, :]\\nW, H, D =  me.shape\\n\""
      ]
     },
     "execution_count": 9,
     "metadata": {},
     "output_type": "execute_result"
    }
   ],
   "source": [
    "'''\n",
    "me = mic.imread('me.jpeg')\n",
    "me_crop = me[900:1100, 450:650, :]\n",
    "W, H, D =  me.shape\n",
    "'''"
   ]
  },
  {
   "cell_type": "code",
   "execution_count": null,
   "metadata": {
    "collapsed": false
   },
   "outputs": [],
   "source": [
    "img_in = me_crop\n",
    "img_out = np.copy(img_in)\n",
    "img_out[:,:] = 0\n",
    "\n",
    "img_out_nt = np.copy(img_out)\n",
    "\n",
    "W, H = img_in.shape\n",
    "\n",
    "def in_xrange(x):\n",
    "    return 0 <= int(x) < W\n",
    "\n",
    "def in_yrange(y):\n",
    "    return 0 <= int(y) < H\n",
    "\n",
    "# apply transform\n",
    "# rotate by 30deg\n",
    "theta =  np.radians(30)\n",
    "\n",
    "def interpolate(img, y, x):\n",
    "    if x > W - 2 or y > H -2:\n",
    "        return img[int(x), int(y)]\n",
    "    x_left = int(x)\n",
    "    x_right = x_left + 1\n",
    "    y_bottom = int(y)\n",
    "    y_top = y_bottom + 1\n",
    "    i_a = (y - y_bottom) * img[y_bottom, x_left] + (y_top - y) * img[y_top, x_left]    \n",
    "    i_b = (y - y_bottom) * img[y_bottom, x_right] + (y_top - y) * img[y_top, x_right]  \n",
    "    interpolated_intensity = (x - x_left)* i_a + (x_right - x)* i_b \n",
    "    return interpolated_intensity#img[int(_y),int(_x)]\n",
    "\n",
    "for y in xrange(H):\n",
    "    for x in xrange(W):\n",
    "        u = abs(x*np.cos(-theta) - y* np.sin(-theta))\n",
    "        v = abs(x*np.sin(-theta) + y*np.cos(-theta))\n",
    "        if in_xrange(u) and  in_yrange(v):\n",
    "            img_out_nt[y,x] = img_in[int(u), int(v)]\n",
    "            img_out[y,x] = interpolate(img_in, u, v)     \n"
   ]
  },
  {
   "cell_type": "code",
   "execution_count": null,
   "metadata": {
    "collapsed": false
   },
   "outputs": [],
   "source": [
    "figure = plt.figure()\n",
    "\n",
    "ax1 = figure.add_subplot(1, 2, 1)\n",
    "ax1.set_title(\"No interpolation\")\n",
    "plt.imshow(img_out_nt, cmap=plt.cm.gray)\n",
    "\n",
    "ax2 = figure.add_subplot(1, 2, 2)\n",
    "ax2.set_title(\"Interpolated\")\n",
    "plt.imshow(img_out, cmap=plt.cm.gray)\n",
    "\n",
    "plt.show()"
   ]
  },
  {
   "cell_type": "code",
   "execution_count": null,
   "metadata": {
    "collapsed": true
   },
   "outputs": [],
   "source": [
    "plt.imshow(img_out, cmap=plt.cm.gray)\n",
    "plt.show()"
   ]
  },
  {
   "cell_type": "code",
   "execution_count": null,
   "metadata": {
    "collapsed": true
   },
   "outputs": [],
   "source": []
  }
 ],
 "metadata": {
  "kernelspec": {
   "display_name": "Python [Root]",
   "language": "python",
   "name": "Python [Root]"
  },
  "language_info": {
   "codemirror_mode": {
    "name": "ipython",
    "version": 2
   },
   "file_extension": ".py",
   "mimetype": "text/x-python",
   "name": "python",
   "nbconvert_exporter": "python",
   "pygments_lexer": "ipython2",
   "version": "2.7.12"
  }
 },
 "nbformat": 4,
 "nbformat_minor": 0
}
