{
 "cells": [
  {
   "cell_type": "code",
   "execution_count": 22,
   "metadata": {
    "collapsed": false
   },
   "outputs": [],
   "source": [
    "import numpy as np\n",
    "from scipy import misc as mic\n",
    "import matplotlib.pyplot as plt\n",
    "from  scipy import ndimage"
   ]
  },
  {
   "cell_type": "code",
   "execution_count": 23,
   "metadata": {
    "collapsed": false
   },
   "outputs": [],
   "source": [
    "'''\n",
    "f = mic.face(gray = True)\n",
    "plt.imshow(f)\n",
    "plt.show()\n",
    "'''\n",
    "me = mic.imread('me.jpeg', flatten = 1)"
   ]
  },
  {
   "cell_type": "code",
   "execution_count": 24,
   "metadata": {
    "collapsed": false
   },
   "outputs": [],
   "source": [
    "W, H =  me.shape\n",
    "X, Y = np.ogrid[0:W, 0:H]\n",
    "mask = (X - W / 2) ** 2 + (Y - H / 2) ** 2 > W * H /4\n",
    "me[mask] = 0"
   ]
  },
  {
   "cell_type": "code",
   "execution_count": 25,
   "metadata": {
    "collapsed": false
   },
   "outputs": [],
   "source": [
    "me_crop = me[ 900:1100, 450:650]\n",
    "me_crop_blur = ndimage.gaussian_filter(me_crop, 2)\n",
    "me_crop_blur_filter = ndimage.gaussian_filter(me_crop_blur, 1)\n",
    "alpha = 50\n",
    "sharp_blur = me_crop_blur + alpha*(me_crop_blur - me_crop_blur_filter)\n",
    "me_crop_blur_denosed = ndimage.median_filter(me_crop, 3)"
   ]
  },
  {
   "cell_type": "code",
   "execution_count": 26,
   "metadata": {
    "collapsed": false
   },
   "outputs": [
    {
     "data": {
      "text/plain": [
       "\"\\nme = mic.imread('me.jpeg')\\nme_crop = me[900:1100, 450:650, :]\\nW, H, D =  me.shape\\n\""
      ]
     },
     "execution_count": 26,
     "metadata": {},
     "output_type": "execute_result"
    }
   ],
   "source": [
    "'''\n",
    "me = mic.imread('me.jpeg')\n",
    "me_crop = me[900:1100, 450:650, :]\n",
    "W, H, D =  me.shape\n",
    "'''"
   ]
  },
  {
   "cell_type": "code",
   "execution_count": 33,
   "metadata": {
    "collapsed": false
   },
   "outputs": [],
   "source": [
    "img_in = me_crop\n",
    "img_out = np.copy(img_in)\n",
    "img_out[:,:] = 0\n",
    "\n",
    "W, H = img_in.shape\n",
    "\n",
    "def in_xrange(x):\n",
    "    return 0 <= x < W\n",
    "\n",
    "def in_yrange(y):\n",
    "    return 0 <= y < H\n",
    "\n",
    "# apply transform\n",
    "# rotate by 30deg\n",
    "theta =  np.radians(10)\n",
    "\n",
    "def interpolate(img, x, y):\n",
    "    \n",
    "\n",
    "for y in xrange(H):\n",
    "    for x in xrange(W):\n",
    "        u = x*np.cos(theta) - y* np.sin(theta)\n",
    "        v = x*np.sin(theta) + y*np.cos(theta)\n",
    "        if in_xrange(u) and in_yrange(v):\n",
    "            img_out[y,x] = interpolate(img_in, u, v)     \n"
   ]
  },
  {
   "cell_type": "code",
   "execution_count": 34,
   "metadata": {
    "collapsed": false
   },
   "outputs": [],
   "source": [
    "plt.imshow(img_out, cmap=plt.cm.gray)\n",
    "plt.show()"
   ]
  },
  {
   "cell_type": "code",
   "execution_count": null,
   "metadata": {
    "collapsed": true
   },
   "outputs": [],
   "source": []
  }
 ],
 "metadata": {
  "kernelspec": {
   "display_name": "Python [Root]",
   "language": "python",
   "name": "Python [Root]"
  },
  "language_info": {
   "codemirror_mode": {
    "name": "ipython",
    "version": 2
   },
   "file_extension": ".py",
   "mimetype": "text/x-python",
   "name": "python",
   "nbconvert_exporter": "python",
   "pygments_lexer": "ipython2",
   "version": "2.7.12"
  }
 },
 "nbformat": 4,
 "nbformat_minor": 0
}
