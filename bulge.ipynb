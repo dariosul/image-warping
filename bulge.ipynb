{
 "cells": [
  {
   "cell_type": "code",
   "execution_count": 276,
   "metadata": {
    "collapsed": false
   },
   "outputs": [],
   "source": [
    "import matplotlib.pyplot as plt\n",
    "import numpy as np\n",
    "from scipy import misc, ndimage"
   ]
  },
  {
   "cell_type": "code",
   "execution_count": 277,
   "metadata": {
    "collapsed": true
   },
   "outputs": [],
   "source": [
    "img = misc.imread(\"me.jpeg\", flatten=1)\n",
    "#img = misc.imread(\"square.jpg\", flatten=1)"
   ]
  },
  {
   "cell_type": "code",
   "execution_count": 278,
   "metadata": {
    "collapsed": true
   },
   "outputs": [],
   "source": [
    "def get_radius(img):\n",
    "    W, H = img.shape\n",
    "    return np.sqrt(1)\n",
    "\n",
    "def radius(x, y, xc, yc):\n",
    "    X = (x - xc)**2\n",
    "    Y = (y - yc)**2\n",
    "    return np.sqrt(X + Y)\n",
    "\n",
    "def scaled_coordinates(x, y, W, H):\n",
    "    return float(x)/W , float(y)/H\n",
    "\n",
    "def scaled_back_coordinates(x, y, W, H):\n",
    "    return x*W, y*H"
   ]
  },
  {
   "cell_type": "code",
   "execution_count": 279,
   "metadata": {
    "collapsed": false
   },
   "outputs": [],
   "source": [
    "# all coordinates are scaled to [0..1]\n",
    "x_c = 0.5\n",
    "y_c = 0.5\n",
    "\n",
    "W, H = img.shape\n",
    "\n",
    "# parameters\n",
    "gamma = 2.5\n",
    "scaling = 1.5\n"
   ]
  },
  {
   "cell_type": "code",
   "execution_count": null,
   "metadata": {
    "collapsed": false
   },
   "outputs": [],
   "source": [
    "# the stuff\n",
    "_gamma = gamma - 1.0\n",
    "\n",
    "img_new = np.copy(img)\n",
    "img_new[:,:] = 0\n",
    "\n",
    "for y_new in xrange(H):\n",
    "    for x_new in xrange(W):\n",
    "        \n",
    "        x,y = scaled_coordinates(x_new, y_new, W, H)\n",
    "        \n",
    "        r = radius(x, y, x_c, y_c)\n",
    "        r = r**_gamma       \n",
    "        \n",
    "        x_ = r*(x - x_c) / scaling + x_c\n",
    "        y_ = r*(y - y_c) / scaling + y_c\n",
    "        \n",
    "        x_old, y_old = scaled_back_coordinates(x_, y_, W, H)\n",
    "        \n",
    "        if x_old < W and y_old < H:        \n",
    "            img_new[int(x_new),int(y_new)] = img[int(x_old), int(y_old)]"
   ]
  },
  {
   "cell_type": "code",
   "execution_count": null,
   "metadata": {
    "collapsed": true
   },
   "outputs": [],
   "source": [
    "figure = plt.figure()\n",
    "\n",
    "ax1 = figure.add_subplot(1, 2, 1)\n",
    "ax1.set_title(\"new image\")\n",
    "plt.imshow(img_new, cmap=plt.cm.gray)\n",
    "\n",
    "ax2 = figure.add_subplot(1, 2, 2)\n",
    "ax2.set_title(\"original\")\n",
    "plt.imshow(img, cmap=plt.cm.gray)\n",
    "\n",
    "plt.show()"
   ]
  }
 ],
 "metadata": {
  "kernelspec": {
   "display_name": "Python [Root]",
   "language": "python",
   "name": "Python [Root]"
  },
  "language_info": {
   "codemirror_mode": {
    "name": "ipython",
    "version": 2
   },
   "file_extension": ".py",
   "mimetype": "text/x-python",
   "name": "python",
   "nbconvert_exporter": "python",
   "pygments_lexer": "ipython2",
   "version": "2.7.12"
  }
 },
 "nbformat": 4,
 "nbformat_minor": 0
}
